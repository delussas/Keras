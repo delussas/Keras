{
 "cells": [
  {
   "cell_type": "code",
   "execution_count": 1,
   "metadata": {
    "scrolled": true
   },
   "outputs": [
    {
     "name": "stderr",
     "output_type": "stream",
     "text": [
      "Using TensorFlow backend.\n",
      "/Users/tracydelussa/anaconda3/lib/python3.7/site-packages/tensorflow/python/framework/dtypes.py:516: FutureWarning: Passing (type, 1) or '1type' as a synonym of type is deprecated; in a future version of numpy, it will be understood as (type, (1,)) / '(1,)type'.\n",
      "  _np_qint8 = np.dtype([(\"qint8\", np.int8, 1)])\n",
      "/Users/tracydelussa/anaconda3/lib/python3.7/site-packages/tensorflow/python/framework/dtypes.py:517: FutureWarning: Passing (type, 1) or '1type' as a synonym of type is deprecated; in a future version of numpy, it will be understood as (type, (1,)) / '(1,)type'.\n",
      "  _np_quint8 = np.dtype([(\"quint8\", np.uint8, 1)])\n",
      "/Users/tracydelussa/anaconda3/lib/python3.7/site-packages/tensorflow/python/framework/dtypes.py:518: FutureWarning: Passing (type, 1) or '1type' as a synonym of type is deprecated; in a future version of numpy, it will be understood as (type, (1,)) / '(1,)type'.\n",
      "  _np_qint16 = np.dtype([(\"qint16\", np.int16, 1)])\n",
      "/Users/tracydelussa/anaconda3/lib/python3.7/site-packages/tensorflow/python/framework/dtypes.py:519: FutureWarning: Passing (type, 1) or '1type' as a synonym of type is deprecated; in a future version of numpy, it will be understood as (type, (1,)) / '(1,)type'.\n",
      "  _np_quint16 = np.dtype([(\"quint16\", np.uint16, 1)])\n",
      "/Users/tracydelussa/anaconda3/lib/python3.7/site-packages/tensorflow/python/framework/dtypes.py:520: FutureWarning: Passing (type, 1) or '1type' as a synonym of type is deprecated; in a future version of numpy, it will be understood as (type, (1,)) / '(1,)type'.\n",
      "  _np_qint32 = np.dtype([(\"qint32\", np.int32, 1)])\n",
      "/Users/tracydelussa/anaconda3/lib/python3.7/site-packages/tensorflow/python/framework/dtypes.py:525: FutureWarning: Passing (type, 1) or '1type' as a synonym of type is deprecated; in a future version of numpy, it will be understood as (type, (1,)) / '(1,)type'.\n",
      "  np_resource = np.dtype([(\"resource\", np.ubyte, 1)])\n",
      "/Users/tracydelussa/anaconda3/lib/python3.7/site-packages/tensorboard/compat/tensorflow_stub/dtypes.py:541: FutureWarning: Passing (type, 1) or '1type' as a synonym of type is deprecated; in a future version of numpy, it will be understood as (type, (1,)) / '(1,)type'.\n",
      "  _np_qint8 = np.dtype([(\"qint8\", np.int8, 1)])\n",
      "/Users/tracydelussa/anaconda3/lib/python3.7/site-packages/tensorboard/compat/tensorflow_stub/dtypes.py:542: FutureWarning: Passing (type, 1) or '1type' as a synonym of type is deprecated; in a future version of numpy, it will be understood as (type, (1,)) / '(1,)type'.\n",
      "  _np_quint8 = np.dtype([(\"quint8\", np.uint8, 1)])\n",
      "/Users/tracydelussa/anaconda3/lib/python3.7/site-packages/tensorboard/compat/tensorflow_stub/dtypes.py:543: FutureWarning: Passing (type, 1) or '1type' as a synonym of type is deprecated; in a future version of numpy, it will be understood as (type, (1,)) / '(1,)type'.\n",
      "  _np_qint16 = np.dtype([(\"qint16\", np.int16, 1)])\n",
      "/Users/tracydelussa/anaconda3/lib/python3.7/site-packages/tensorboard/compat/tensorflow_stub/dtypes.py:544: FutureWarning: Passing (type, 1) or '1type' as a synonym of type is deprecated; in a future version of numpy, it will be understood as (type, (1,)) / '(1,)type'.\n",
      "  _np_quint16 = np.dtype([(\"quint16\", np.uint16, 1)])\n",
      "/Users/tracydelussa/anaconda3/lib/python3.7/site-packages/tensorboard/compat/tensorflow_stub/dtypes.py:545: FutureWarning: Passing (type, 1) or '1type' as a synonym of type is deprecated; in a future version of numpy, it will be understood as (type, (1,)) / '(1,)type'.\n",
      "  _np_qint32 = np.dtype([(\"qint32\", np.int32, 1)])\n",
      "/Users/tracydelussa/anaconda3/lib/python3.7/site-packages/tensorboard/compat/tensorflow_stub/dtypes.py:550: FutureWarning: Passing (type, 1) or '1type' as a synonym of type is deprecated; in a future version of numpy, it will be understood as (type, (1,)) / '(1,)type'.\n",
      "  np_resource = np.dtype([(\"resource\", np.ubyte, 1)])\n"
     ]
    }
   ],
   "source": [
    "# Load required libraries\n",
    "import numpy as np\n",
    "import matplotlib.pyplot as plt\n",
    "from keras.models import Sequential\n",
    "from keras.layers import Dense"
   ]
  },
  {
   "cell_type": "code",
   "execution_count": 2,
   "metadata": {},
   "outputs": [],
   "source": [
    "# Load the data\n",
    "features_and_targets = np.loadtxt('features_and_targets.csv',delimiter=',')\n",
    "# Randomize the data\n",
    "np.random.shuffle(features_and_targets)\n",
    "# Split up the data into X and Y features, using indexing\n",
    "X = features_and_targets[:,0:5]\n",
    "Y = features_and_targets[:,5:7] "
   ]
  },
  {
   "cell_type": "code",
   "execution_count": 3,
   "metadata": {},
   "outputs": [],
   "source": [
    "# Set a seed so that we can recreate the results\n",
    "np.random.seed(7)"
   ]
  },
  {
   "cell_type": "code",
   "execution_count": 4,
   "metadata": {},
   "outputs": [
    {
     "name": "stdout",
     "output_type": "stream",
     "text": [
      "WARNING:tensorflow:From /Users/tracydelussa/anaconda3/lib/python3.7/site-packages/keras/backend/tensorflow_backend.py:422: The name tf.global_variables is deprecated. Please use tf.compat.v1.global_variables instead.\n",
      "\n"
     ]
    },
    {
     "data": {
      "text/plain": [
       "<keras.callbacks.callbacks.History at 0x7ff69105ccf8>"
      ]
     },
     "execution_count": 4,
     "metadata": {},
     "output_type": "execute_result"
    }
   ],
   "source": [
    "# Create an instance of the Sequential model, this builds the model layer\n",
    "# by layer, hence sequentially\n",
    "model = Sequential()\n",
    "# Add a 4 neuron hidden Dense layer with an input dimension of 5 neurons\n",
    "# Additionally, we will use the relu activation function for the hidden \n",
    "# layers, and the sigmoid function for the output layer. \n",
    "model.add(Dense(4, input_dim=5, activation='relu'))\n",
    "model.add(Dense(3, activation='relu'))\n",
    "model.add(Dense(2, activation='sigmoid'))\n",
    "# Spesifies how we want to train the model. Here, we use the mean squared\n",
    "# error to measure the difference between the predicitons and the true\n",
    "# values. The adam optimizer is a more sophisticated version of the \n",
    "# gradient descent. The metrics argument speficies what we want to track.\n",
    "model.compile(loss='mean_squared_error', optimizer='adam', metrics=['accuracy'])\n",
    "model.fit(X, Y, epochs=150, verbose=0)"
   ]
  },
  {
   "cell_type": "code",
   "execution_count": 5,
   "metadata": {},
   "outputs": [
    {
     "name": "stdout",
     "output_type": "stream",
     "text": [
      "\r",
      "22/22 [==============================] - 0s 10ms/step\n"
     ]
    },
    {
     "data": {
      "text/plain": [
       "[0.2260281890630722, 0.6363636255264282]"
      ]
     },
     "execution_count": 5,
     "metadata": {},
     "output_type": "execute_result"
    }
   ],
   "source": [
    "# The evaluate function returns the model's loss and accuracy respectively\n",
    "scores = model.evaluate(X,Y)\n",
    "scores"
   ]
  },
  {
   "cell_type": "code",
   "execution_count": 6,
   "metadata": {
    "scrolled": true
   },
   "outputs": [
    {
     "name": "stdout",
     "output_type": "stream",
     "text": [
      "Predicted:  [0.29484776 0.693348  ] \n",
      "Observed:  [0. 1.]\n",
      "Predicted:  [0.42481723 0.5900193 ] \n",
      "Observed:  [0. 1.]\n",
      "Predicted:  [0.37891743 0.6321951 ] \n",
      "Observed:  [1. 0.]\n",
      "Predicted:  [0.45687014 0.5812559 ] \n",
      "Observed:  [1. 0.]\n",
      "Predicted:  [0.43366885 0.5766397 ] \n",
      "Observed:  [0. 1.]\n",
      "Predicted:  [0.45221013 0.5507329 ] \n",
      "Observed:  [0. 1.]\n",
      "Predicted:  [0.34999844 0.64254385] \n",
      "Observed:  [0. 1.]\n",
      "Predicted:  [0.3039611 0.6836268] \n",
      "Observed:  [1. 0.]\n",
      "Predicted:  [0.36874735 0.64267063] \n",
      "Observed:  [0. 1.]\n",
      "Predicted:  [0.39719483 0.6066522 ] \n",
      "Observed:  [1. 0.]\n",
      "Predicted:  [0.26300955 0.71578526] \n",
      "Observed:  [0. 1.]\n",
      "Predicted:  [0.27909946 0.71589756] \n",
      "Observed:  [0. 1.]\n",
      "Predicted:  [0.27820033 0.6932306 ] \n",
      "Observed:  [0. 1.]\n",
      "Predicted:  [0.43709278 0.5969175 ] \n",
      "Observed:  [1. 0.]\n",
      "Predicted:  [0.45220712 0.5507896 ] \n",
      "Observed:  [1. 0.]\n",
      "Predicted:  [0.38683972 0.61741495] \n",
      "Observed:  [0. 1.]\n",
      "Predicted:  [0.45155722 0.5629644 ] \n",
      "Observed:  [0. 1.]\n",
      "Predicted:  [0.28792477 0.70658875] \n",
      "Observed:  [1. 0.]\n",
      "Predicted:  [0.43892235 0.6299187 ] \n",
      "Observed:  [0. 1.]\n",
      "Predicted:  [0.36770678 0.61728454] \n",
      "Observed:  [0. 1.]\n",
      "Predicted:  [0.45221013 0.5507329 ] \n",
      "Observed:  [1. 0.]\n",
      "Predicted:  [0.44999653 0.6055777 ] \n",
      "Observed:  [0. 1.]\n"
     ]
    }
   ],
   "source": [
    "# Returns the probability distributions. We are predicting the values on\n",
    "# the features_and_targets data based on the model we created. For\n",
    "# comparison, we added the true values below\n",
    "predicted_targets = model.predict(X)\n",
    "\n",
    "# Loop to display each probability distribution and the true values\n",
    "for i in range(22):\n",
    "    print('Predicted: ', predicted_targets[i,:], '\\nObserved: ', Y[i,:])"
   ]
  },
  {
   "cell_type": "code",
   "execution_count": 7,
   "metadata": {},
   "outputs": [
    {
     "name": "stdout",
     "output_type": "stream",
     "text": [
      "22/22 [==============================] - 0s 41us/step\n",
      "Final Loss Value:  [0.2005099356174469, 0.6363636255264282]\n"
     ]
    }
   ],
   "source": [
    "# Trains the model using 150 iterations. Verbose = 0 indicates we do not\n",
    "# want to see any training progress; 1 shows a bar chart; 2 indicates\n",
    "# which epoch is running\n",
    "history = model.fit(X, Y, epochs=150, verbose=0)\n",
    "print(\"Final Loss Value: \", model.evaluate(X, Y,))"
   ]
  },
  {
   "cell_type": "code",
   "execution_count": 8,
   "metadata": {},
   "outputs": [
    {
     "data": {
      "text/plain": [
       "keras.callbacks.callbacks.History"
      ]
     },
     "execution_count": 8,
     "metadata": {},
     "output_type": "execute_result"
    }
   ],
   "source": [
    "type(history)"
   ]
  },
  {
   "cell_type": "code",
   "execution_count": 9,
   "metadata": {},
   "outputs": [
    {
     "name": "stdout",
     "output_type": "stream",
     "text": [
      "<keras.callbacks.callbacks.History object at 0x7ff6915d6710>\n"
     ]
    }
   ],
   "source": [
    "print(history)"
   ]
  },
  {
   "cell_type": "code",
   "execution_count": 10,
   "metadata": {},
   "outputs": [
    {
     "data": {
      "text/plain": [
       "dict"
      ]
     },
     "execution_count": 10,
     "metadata": {},
     "output_type": "execute_result"
    }
   ],
   "source": [
    "type(history.history)"
   ]
  },
  {
   "cell_type": "code",
   "execution_count": 11,
   "metadata": {
    "scrolled": true
   },
   "outputs": [
    {
     "name": "stdout",
     "output_type": "stream",
     "text": [
      "[0.6363636, 0.6363636, 0.6363636, 0.6363636, 0.6363636, 0.6363636, 0.6363636, 0.6363636, 0.6363636, 0.6363636, 0.6363636, 0.6363636, 0.6363636, 0.6363636, 0.6363636, 0.6363636, 0.6363636, 0.6363636, 0.6363636, 0.6363636, 0.6363636, 0.6363636, 0.6363636, 0.6363636, 0.6363636, 0.6363636, 0.6363636, 0.6363636, 0.6363636, 0.6363636, 0.6363636, 0.6363636, 0.6363636, 0.6363636, 0.6363636, 0.6363636, 0.6363636, 0.6363636, 0.6363636, 0.6363636, 0.6363636, 0.6363636, 0.6363636, 0.6363636, 0.6363636, 0.6363636, 0.6363636, 0.6363636, 0.6363636, 0.6363636, 0.6363636, 0.6363636, 0.6363636, 0.6363636, 0.6363636, 0.6363636, 0.6363636, 0.6363636, 0.6363636, 0.6363636, 0.6363636, 0.6363636, 0.6363636, 0.6363636, 0.6363636, 0.6363636, 0.6363636, 0.6363636, 0.6363636, 0.6363636, 0.6363636, 0.6363636, 0.6363636, 0.6363636, 0.6363636, 0.6363636, 0.6363636, 0.6363636, 0.6363636, 0.6363636, 0.6363636, 0.6363636, 0.6363636, 0.6363636, 0.6363636, 0.6363636, 0.6363636, 0.6363636, 0.6363636, 0.6363636, 0.6363636, 0.6363636, 0.6363636, 0.6363636, 0.6363636, 0.6363636, 0.6363636, 0.6363636, 0.6363636, 0.6363636, 0.6363636, 0.6363636, 0.6363636, 0.6363636, 0.6363636, 0.6363636, 0.6363636, 0.6363636, 0.6363636, 0.6363636, 0.6363636, 0.6363636, 0.6363636, 0.6363636, 0.6363636, 0.6363636, 0.6363636, 0.6363636, 0.6363636, 0.6363636, 0.6363636, 0.6363636, 0.6363636, 0.6363636, 0.6363636, 0.6363636, 0.6363636, 0.6363636, 0.6363636, 0.6363636, 0.6363636, 0.6363636, 0.6363636, 0.6363636, 0.6363636, 0.6363636, 0.6363636, 0.6363636, 0.6363636, 0.6363636, 0.6363636, 0.6363636, 0.6363636, 0.6363636, 0.6363636, 0.6363636, 0.6363636, 0.6363636, 0.6363636, 0.6363636]\n"
     ]
    }
   ],
   "source": [
    "accuracy = history.history['accuracy']\n",
    "print(accuracy)"
   ]
  },
  {
   "cell_type": "code",
   "execution_count": 12,
   "metadata": {
    "scrolled": true
   },
   "outputs": [
    {
     "name": "stdout",
     "output_type": "stream",
     "text": [
      "[0.22602815926074982, 0.22592610120773315, 0.225823774933815, 0.22572289407253265, 0.22562122344970703, 0.22551900148391724, 0.22541671991348267, 0.22531400620937347, 0.22521162033081055, 0.22510890662670135, 0.22500547766685486, 0.22490142285823822, 0.2247995287179947, 0.22469569742679596, 0.22458991408348083, 0.2244855761528015, 0.22438181936740875, 0.22427576780319214, 0.22416949272155762, 0.2240639328956604, 0.22395700216293335, 0.22384896874427795, 0.22374391555786133, 0.22363623976707458, 0.22352595627307892, 0.22341841459274292, 0.22331096231937408, 0.22320079803466797, 0.22308875620365143, 0.22297754883766174, 0.22286631166934967, 0.22275495529174805, 0.22264108061790466, 0.22252677381038666, 0.22241438925266266, 0.22230035066604614, 0.22218440473079681, 0.22206683456897736, 0.221950963139534, 0.22183290123939514, 0.2217138707637787, 0.22159510850906372, 0.22147594392299652, 0.22135557234287262, 0.22123384475708008, 0.22111158072948456, 0.2209882140159607, 0.22086410224437714, 0.22073914110660553, 0.22061271965503693, 0.22048531472682953, 0.22035694122314453, 0.22022834420204163, 0.2200993448495865, 0.2199670672416687, 0.21983647346496582, 0.21970461308956146, 0.21957024931907654, 0.2194335013628006, 0.2192959189414978, 0.21915870904922485, 0.2190191149711609, 0.21887937188148499, 0.21873869001865387, 0.21859580278396606, 0.21845202147960663, 0.21830731630325317, 0.21816077828407288, 0.218012273311615, 0.2178640365600586, 0.2177138477563858, 0.21756190061569214, 0.21740756928920746, 0.21725203096866608, 0.2170954793691635, 0.21693778038024902, 0.21677802503108978, 0.2166179120540619, 0.21645468473434448, 0.21628926694393158, 0.21612291038036346, 0.21595411002635956, 0.21578454971313477, 0.21561232209205627, 0.21543759107589722, 0.21526217460632324, 0.21508459746837616, 0.21490582823753357, 0.21473127603530884, 0.2145559936761856, 0.2143796980381012, 0.2142011970281601, 0.2140190452337265, 0.21383309364318848, 0.2136451154947281, 0.21346019208431244, 0.21327263116836548, 0.21308284997940063, 0.21289066970348358, 0.21269606053829193, 0.2124989926815033, 0.21229948103427887, 0.21209746599197388, 0.2118929773569107, 0.2116859406232834, 0.21147632598876953, 0.21126411855220795, 0.21104927361011505, 0.2108362764120102, 0.2106180042028427, 0.2104044407606125, 0.21019510924816132, 0.20997542142868042, 0.20974679291248322, 0.20951461791992188, 0.2093048095703125, 0.2090919017791748, 0.20887570083141327, 0.2086561769247055, 0.2084333300590515, 0.2082071453332901, 0.20798282325267792, 0.20775656402111053, 0.20752330124378204, 0.2072979062795639, 0.20706996321678162, 0.20683704316616058, 0.2065991461277008, 0.20635642111301422, 0.2061164379119873, 0.2058766484260559, 0.2056315541267395, 0.20538043975830078, 0.20513790845870972, 0.2048899084329605, 0.20463605225086212, 0.2043764740228653, 0.204111248254776, 0.20385317504405975, 0.20359431207180023, 0.20332856476306915, 0.20305591821670532, 0.20278094708919525, 0.2025061994791031, 0.20223282277584076, 0.20195220410823822, 0.20166583359241486, 0.20138207077980042, 0.20109306275844574, 0.2008054405450821]\n"
     ]
    }
   ],
   "source": [
    "loss = history.history['loss']\n",
    "print(loss)"
   ]
  },
  {
   "cell_type": "code",
   "execution_count": 13,
   "metadata": {},
   "outputs": [],
   "source": [
    "# Tensorflow GPU won't support for macOS versions of 12.0 and higher\n",
    "# Until I ran this code, the kernal would die every time I tried to plot \n",
    "# https://www.kaggle.com/product-feedback/41221\n",
    "import os\n",
    "os.environ['KMP_DUPLICATE_LIB_OK']='True'"
   ]
  },
  {
   "cell_type": "code",
   "execution_count": 14,
   "metadata": {},
   "outputs": [
    {
     "data": {
      "text/plain": [
       "[<matplotlib.lines.Line2D at 0x7ff691f0fb70>]"
      ]
     },
     "execution_count": 14,
     "metadata": {},
     "output_type": "execute_result"
    },
    {
     "data": {
      "image/png": "[encoded data removed]",
      "text/plain": [
       "<Figure size 432x288 with 1 Axes>"
      ]
     },
     "metadata": {
      "needs_background": "light"
     },
     "output_type": "display_data"
    }
   ],
   "source": [
    "# Plots the loss per iteration\n",
    "plt.plot(loss)"
   ]
  },
  {
   "cell_type": "code",
   "execution_count": 15,
   "metadata": {},
   "outputs": [
    {
     "data": {
      "text/plain": [
       "[<matplotlib.lines.Line2D at 0x7ff691fb09b0>]"
      ]
     },
     "execution_count": 15,
     "metadata": {},
     "output_type": "execute_result"
    },
    {
     "data": {
      "image/png": "[encoded data removed]",
      "text/plain": [
       "<Figure size 432x288 with 1 Axes>"
      ]
     },
     "metadata": {
      "needs_background": "light"
     },
     "output_type": "display_data"
    }
   ],
   "source": [
    "# Plots the accuracy per iteration\n",
    "plt.plot(accuracy)"
   ]
  },
  {
   "cell_type": "code",
   "execution_count": 16,
   "metadata": {},
   "outputs": [
    {
     "data": {
      "image/png": "[encoded data removed]",
      "text/plain": [
       "<Figure size 432x288 with 1 Axes>"
      ]
     },
     "metadata": {
      "needs_background": "light"
     },
     "output_type": "display_data"
    }
   ],
   "source": [
    "plt.figure()\n",
    "plt.plot(loss)\n",
    "plt.plot(accuracy)\n",
    "plt.legend(['Train', 'Test'], loc = 'best')\n",
    "plt.xlabel('Epochs')\n",
    "plt.ylabel('Loss/Accuracy Percentage')\n",
    "plt.show()"
   ]
  },
  {
   "cell_type": "code",
   "execution_count": 17,
   "metadata": {},
   "outputs": [
    {
     "name": "stdout",
     "output_type": "stream",
     "text": [
      "dict_keys(['loss', 'accuracy'])\n"
     ]
    }
   ],
   "source": [
    "# Reveals the metrics we can use to evaluate the history\n",
    "# https://stackoverflow.com/questions/39883331/plotting-learning-curve-in-keras-gives-keyerror-val-acc\n",
    "history_dict = history.history\n",
    "print(history_dict.keys())"
   ]
  },
  {
   "cell_type": "code",
   "execution_count": 18,
   "metadata": {
    "scrolled": true
   },
   "outputs": [
    {
     "data": {
      "image/png": "[encoded data removed]",
      "text/plain": [
       "<Figure size 432x288 with 1 Axes>"
      ]
     },
     "metadata": {
      "needs_background": "light"
     },
     "output_type": "display_data"
    }
   ],
   "source": [
    "# Graphs the predicted data points of the x-axis(coded as the frist\n",
    "# variable) plotted against the yaxis (coded as the second variable)\n",
    "plt.scatter(predicted_targets[:,0],predicted_targets[:,1])\n",
    "plt.scatter(Y[:,0],Y[:,1])\n",
    "plt.show()"
   ]
  },
  {
   "cell_type": "code",
   "execution_count": 19,
   "metadata": {
    "scrolled": true
   },
   "outputs": [
    {
     "name": "stdout",
     "output_type": "stream",
     "text": [
      "22/22 [==============================] - 0s 6ms/step\n",
      "[0.10213148593902588, 1.0]\n",
      "Predicted:  [0.10734442 0.880412  ] \n",
      "Observed:  [0. 1.]\n",
      "Predicted:  [0.04784566 0.93221545] \n",
      "Observed:  [0. 1.]\n",
      "Predicted:  [0.53017515 0.46779194] \n",
      "Observed:  [1. 0.]\n",
      "Predicted:  [0.53581727 0.46296078] \n",
      "Observed:  [1. 0.]\n",
      "Predicted:  [0.32493758 0.6349472 ] \n",
      "Observed:  [0. 1.]\n",
      "Predicted:  [0.3213259 0.638053 ] \n",
      "Observed:  [0. 1.]\n",
      "Predicted:  [0.09542695 0.855886  ] \n",
      "Observed:  [0. 1.]\n",
      "Predicted:  [0.53581727 0.46296078] \n",
      "Observed:  [1. 0.]\n",
      "Predicted:  [0.1234121 0.8307485] \n",
      "Observed:  [0. 1.]\n",
      "Predicted:  [0.5341614  0.46430117] \n",
      "Observed:  [1. 0.]\n",
      "Predicted:  [0.09887823 0.85178006] \n",
      "Observed:  [0. 1.]\n",
      "Predicted:  [0.09945631 0.8882879 ] \n",
      "Observed:  [0. 1.]\n",
      "Predicted:  [0.10632864 0.84280145] \n",
      "Observed:  [0. 1.]\n",
      "Predicted:  [0.5354718  0.46359748] \n",
      "Observed:  [1. 0.]\n",
      "Predicted:  [0.53581727 0.46296078] \n",
      "Observed:  [1. 0.]\n",
      "Predicted:  [0.1324395  0.82076395] \n",
      "Observed:  [0. 1.]\n",
      "Predicted:  [0.2670756 0.7336841] \n",
      "Observed:  [0. 1.]\n",
      "Predicted:  [0.53581727 0.46296078] \n",
      "Observed:  [1. 0.]\n",
      "Predicted:  [0.1975379  0.82951474] \n",
      "Observed:  [0. 1.]\n",
      "Predicted:  [0.10264695 0.84711146] \n",
      "Observed:  [0. 1.]\n",
      "Predicted:  [0.53581727 0.46296078] \n",
      "Observed:  [1. 0.]\n",
      "Predicted:  [0.21226364 0.81760633] \n",
      "Observed:  [0. 1.]\n"
     ]
    }
   ],
   "source": [
    "# Same code as above, except the epochs have been increased to 500\n",
    "np.random.seed(7)\n",
    "\n",
    "model_2 = Sequential() \n",
    "model_2.add(Dense(4, input_dim = 5, activation = 'relu'))\n",
    "model_2.add(Dense(3, activation = 'relu'))\n",
    "model_2.add(Dense(2, activation = 'sigmoid'))\n",
    "\n",
    "model_2.compile(loss = 'mean_squared_error', optimizer = 'adam', metrics = ['accuracy'])\n",
    "\n",
    "history_fivehundred = model_2.fit(X, Y, epochs = 500, verbose = 0)\n",
    "\n",
    "scores_2 = model_2.evaluate(X, Y)\n",
    "print(scores_2)\n",
    "\n",
    "predicted_targets_2 = model_2.predict(X)\n",
    "\n",
    "for i in range(22):\n",
    "    print('Predicted: ', predicted_targets_2[i,:], '\\nObserved: ', Y[i,:])\n",
    "    \n",
    "# By increasing the epochs, we can see the loss and accuracy both imporved\n",
    "# The loss decresed from .20 to .10, while the accuracy increased from \n",
    "# .63 to 1.0"
   ]
  },
  {
   "cell_type": "code",
   "execution_count": 20,
   "metadata": {},
   "outputs": [
    {
     "data": {
      "image/png": "[encoded data removed]",
      "text/plain": [
       "<Figure size 432x288 with 1 Axes>"
      ]
     },
     "metadata": {
      "needs_background": "light"
     },
     "output_type": "display_data"
    }
   ],
   "source": [
    "acc_fivehundred = history_fivehundred.history['accuracy']\n",
    "loss_fivehundred = history_fivehundred.history['loss']\n",
    "epoch = range(0,501)\n",
    "plt.plot(acc_fivehundred, label=\"Accuracy\")\n",
    "plt.legend()\n",
    "plt.plot(loss_fivehundred, label=\"Loss\")\n",
    "plt.legend()\n",
    "plt.xlabel(\"Number of epochs\")\n",
    "plt.ylabel(\"Loss/Accuracy Percentage\")\n",
    "plt.title(\"500 Epochs\")\n",
    "plt.show()\n",
    "# The plot shows the model has increase in accuracy from 0.63 to 1.0 \n",
    "# and loss decreased from 0.20 to 0.10  "
   ]
  },
  {
   "cell_type": "code",
   "execution_count": 21,
   "metadata": {},
   "outputs": [
    {
     "data": {
      "image/png": "[encoded data removed]",
      "text/plain": [
       "<Figure size 432x288 with 1 Axes>"
      ]
     },
     "metadata": {
      "needs_background": "light"
     },
     "output_type": "display_data"
    }
   ],
   "source": [
    "# Graphs the predicted data points of the x-axis(coded as the frist\n",
    "# variable) plotted against the yaxis (coded as the second variable)\n",
    "plt.scatter(predicted_targets_2[:,0],predicted_targets_2[:,1])\n",
    "plt.scatter(Y[:,0],Y[:,1])\n",
    "plt.show()"
   ]
  },
  {
   "cell_type": "code",
   "execution_count": 22,
   "metadata": {
    "scrolled": true
   },
   "outputs": [
    {
     "name": "stdout",
     "output_type": "stream",
     "text": [
      "22/22 [==============================] - 0s 6ms/step\n",
      "[0.01814713329076767, 1.0]\n",
      "Predicted:  [0.00893888 0.98896146] \n",
      "Observed:  [0. 1.]\n",
      "Predicted:  [4.1076541e-04 9.9907255e-01] \n",
      "Observed:  [0. 1.]\n",
      "Predicted:  [0.77526593 0.21842378] \n",
      "Observed:  [1. 0.]\n",
      "Predicted:  [0.77526593 0.21842378] \n",
      "Observed:  [1. 0.]\n",
      "Predicted:  [0.02974948 0.9494611 ] \n",
      "Observed:  [0. 1.]\n",
      "Predicted:  [0.02979395 0.9493953 ] \n",
      "Observed:  [0. 1.]\n",
      "Predicted:  [0.00896016 0.98237574] \n",
      "Observed:  [0. 1.]\n",
      "Predicted:  [0.77526593 0.21842378] \n",
      "Observed:  [1. 0.]\n",
      "Predicted:  [0.00897658 0.98892117] \n",
      "Observed:  [0. 1.]\n",
      "Predicted:  [0.77526593 0.21842378] \n",
      "Observed:  [1. 0.]\n",
      "Predicted:  [0.00894657 0.9823995 ] \n",
      "Observed:  [0. 1.]\n",
      "Predicted:  [0.00894463 0.98896   ] \n",
      "Observed:  [0. 1.]\n",
      "Predicted:  [0.00891623 0.98245215] \n",
      "Observed:  [0. 1.]\n",
      "Predicted:  [0.77526593 0.21842378] \n",
      "Observed:  [1. 0.]\n",
      "Predicted:  [0.77526593 0.21842378] \n",
      "Observed:  [1. 0.]\n",
      "Predicted:  [0.00897077 0.9889227 ] \n",
      "Observed:  [0. 1.]\n",
      "Predicted:  [0.0228861  0.97454166] \n",
      "Observed:  [0. 1.]\n",
      "Predicted:  [0.77526593 0.21842378] \n",
      "Observed:  [1. 0.]\n",
      "Predicted:  [0.02281049 0.97462475] \n",
      "Observed:  [0. 1.]\n",
      "Predicted:  [0.00892982 0.98242855] \n",
      "Observed:  [0. 1.]\n",
      "Predicted:  [0.77526593 0.21842378] \n",
      "Observed:  [1. 0.]\n",
      "Predicted:  [0.02283689 0.9745877 ] \n",
      "Observed:  [0. 1.]\n"
     ]
    }
   ],
   "source": [
    "# Model with 1500 epochs\n",
    "\n",
    "np.random.seed(7)\n",
    "\n",
    "model_3 = Sequential() \n",
    "model_3.add(Dense(4, input_dim = 5, activation = 'relu'))\n",
    "model_3.add(Dense(3, activation = 'relu'))\n",
    "model_3.add(Dense(2, activation = 'sigmoid'))\n",
    "\n",
    "model_3.compile(loss = 'mean_squared_error', optimizer = 'adam', metrics = ['accuracy'])\n",
    "\n",
    "history_ten_times = model_3.fit(X, Y, epochs = 1500, verbose = 0)\n",
    "\n",
    "scores_3 = model_3.evaluate(X, Y)\n",
    "print(scores_3)\n",
    "\n",
    "predicted_targets_3 = model_3.predict(X)\n",
    "\n",
    "for i in range(22):\n",
    "    print('Predicted: ', predicted_targets_3[i,:], '\\nObserved: ', Y[i,:])\n",
    "    \n",
    "# By further increasing the epochs, we can see the loss imporved again\n",
    "# The loss decresed from .10 to .018"
   ]
  },
  {
   "cell_type": "code",
   "execution_count": 23,
   "metadata": {},
   "outputs": [
    {
     "data": {
      "image/png": "[encoded data removed]",
      "text/plain": [
       "<Figure size 432x288 with 1 Axes>"
      ]
     },
     "metadata": {
      "needs_background": "light"
     },
     "output_type": "display_data"
    }
   ],
   "source": [
    "acc_ten_times = history_ten_times.history['accuracy']\n",
    "loss_ten_times = history_ten_times.history['loss']\n",
    "epoch = range(0,501)\n",
    "plt.plot(acc_ten_times, label=\"Accuracy\")\n",
    "plt.legend()\n",
    "plt.plot(loss_ten_times, label=\"Loss\")\n",
    "plt.legend()\n",
    "plt.xlabel(\"Number of epochs\")\n",
    "plt.ylabel(\"Loss/Accuracy Percentage\")\n",
    "plt.title(\"1500 Epochs\")\n",
    "plt.show()\n",
    "# The plot shows the accuracy remained at 1.0, while the loss decreased \n",
    "# from 0.10 to 0.018  "
   ]
  },
  {
   "cell_type": "code",
   "execution_count": 24,
   "metadata": {},
   "outputs": [
    {
     "data": {
      "image/png": "[encoded data removed]",
      "text/plain": [
       "<Figure size 432x288 with 1 Axes>"
      ]
     },
     "metadata": {
      "needs_background": "light"
     },
     "output_type": "display_data"
    }
   ],
   "source": [
    "# Graphs the predicted data points of the x-axis(coded as the frist\n",
    "# variable) plotted against the yaxis (coded as the second variable)\n",
    "plt.scatter(predicted_targets_3[:,0],predicted_targets_3[:,1])\n",
    "plt.scatter(Y[:,0],Y[:,1])\n",
    "plt.show()"
   ]
  },
  {
   "cell_type": "code",
   "execution_count": 25,
   "metadata": {},
   "outputs": [
    {
     "name": "stdout",
     "output_type": "stream",
     "text": [
      "[name: \"/device:CPU:0\"\n",
      "device_type: \"CPU\"\n",
      "memory_limit: 268435456\n",
      "locality {\n",
      "}\n",
      "incarnation: 1242098342828081306\n",
      "]\n"
     ]
    }
   ],
   "source": [
    "# Run this command to see if Tensorflow has detected a GPU to use\n",
    "from tensorflow.python.client import device_lib\n",
    "print(device_lib.list_local_devices())"
   ]
  },
  {
   "cell_type": "code",
   "execution_count": 26,
   "metadata": {
    "scrolled": true
   },
   "outputs": [],
   "source": [
    "# Used to install the theano package\n",
    "# conda install -c conda-forge/label/cf201901 theano"
   ]
  },
  {
   "cell_type": "code",
   "execution_count": 27,
   "metadata": {},
   "outputs": [
    {
     "name": "stderr",
     "output_type": "stream",
     "text": [
      "/Users/tracydelussa/anaconda3/lib/python3.7/site-packages/theano/configdefaults.py:560: UserWarning: DeprecationWarning: there is no c++ compiler.This is deprecated and with Theano 0.11 a c++ compiler will be mandatory\n",
      "  warnings.warn(\"DeprecationWarning: there is no c++ compiler.\"\n",
      "WARNING (theano.configdefaults): g++ not detected ! Theano will be unable to execute optimized C-implementations (for both CPU and GPU) and will default to Python implementations. Performance will be severely degraded. To remove this warning, set Theano flags cxx to an empty string.\n",
      "WARNING (theano.tensor.blas): Using NumPy C-API based implementation for BLAS functions.\n"
     ]
    }
   ],
   "source": [
    "#Run this - if Theano finds a GPU to use it will tell you\n",
    "import theano"
   ]
  },
  {
   "cell_type": "code",
   "execution_count": 28,
   "metadata": {},
   "outputs": [],
   "source": [
    "#pip install -U notebook-as-pdf"
   ]
  }
 ],
 "metadata": {
  "kernelspec": {
   "display_name": "Python 3",
   "language": "python",
   "name": "python3"
  },
  "language_info": {
   "codemirror_mode": {
    "name": "ipython",
    "version": 3
   },
   "file_extension": ".py",
   "mimetype": "text/x-python",
   "name": "python",
   "nbconvert_exporter": "python",
   "pygments_lexer": "ipython3",
   "version": "3.7.3"
  }
 },
 "nbformat": 4,
 "nbformat_minor": 4
}
